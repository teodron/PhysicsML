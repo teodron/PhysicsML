#@title
import torch 
import numpy 
import matplotlib.pyplot as plt
import math
import torch.nn.functional as F
from torch import nn, optim

def calculate_accuracy(y_true, y_pred):
  predicted = y_pred.ge(.5).view(-1)
  return (y_true == predicted).sum().float() / len(y_true)

def round_tensor(t, decimal_places=3):
  return round(t.item(), decimal_places)

torch.set_deterministic(True)
torch.manual_seed(0)
torch.pi = torch.acos(torch.zeros(1)).item() * 2 

size_train = 5000
size_valid = 500

x_train = (0.5 - torch.rand(size_train,1)) * torch.pi
y_train = torch.sin(x_train)

x_valid = (0.5 - torch.rand(size_valid,1)) * torch.pi
y_valid = torch.sin(x_valid)

print(x_train, y_train)
print(torch.cuda.device_count()) 
print(torch.cuda.get_device_name(0))
# This is a dirty hello-world example that trains a simple NN to approximate
# the sin function
# NOTE: WIP

class Net(nn.Module):
  def __init__(self, n_features):
    super(Net, self).__init__()
    self.fc1 = nn.Linear(n_features, 7)
    self.fc2 = nn.Linear(7, 5)
    self.fc3 = nn.Linear(5, 1)
  def forward(self, x):
    x = F.relu(self.fc1(x))
    x = F.relu(self.fc2(x))
    return torch.sigmoid(self.fc3(x))

net = Net(1)
criterion = nn.MSELoss()
optimizer = optim.Adam(net.parameters(), lr=0.001)

m = nn.Linear(1,5)
print(m)

for epoch in range(2000):
    y_pred = net(x_train)
    y_pred = torch.squeeze(y_pred)
    train_loss = criterion(y_pred, torch.squeeze(y_train))
    if epoch % 100 == 0:
      train_acc = calculate_accuracy(torch.squeeze(y_train), y_pred)
      y_test_pred = net(x_valid)
      y_test_pred = torch.squeeze(y_valid)
      test_loss = criterion(y_test_pred, torch.squeeze(y_valid))
      test_acc = calculate_accuracy(torch.squeeze(y_valid), y_test_pred)
      print(
f'''epoch {epoch}
Train set - loss: {round_tensor(train_loss)}, accuracy: {round_tensor(train_acc)}
Test  set - loss: {round_tensor(test_loss)}, accuracy: {round_tensor(test_acc)}
''')
      
    optimizer.zero_grad()
    train_loss.backward()
    optimizer.step()

# some outputs now
x_arg = torch.tensor([torch.pi * 0.53])
y_arg = torch.sin(x_arg)
print(x_arg, y_arg, net(x_arg))
